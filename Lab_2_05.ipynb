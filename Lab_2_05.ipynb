{
  "nbformat": 4,
  "nbformat_minor": 0,
  "metadata": {
    "colab": {
      "name": "Lab 2.05.ipynb",
      "provenance": [],
      "collapsed_sections": [],
      "include_colab_link": true
    },
    "kernelspec": {
      "name": "python3",
      "display_name": "Python 3"
    },
    "language_info": {
      "name": "python"
    }
  },
  "cells": [
    {
      "cell_type": "markdown",
      "metadata": {
        "id": "view-in-github",
        "colab_type": "text"
      },
      "source": [
        "<a href=\"https://colab.research.google.com/github/danielsc/intro_to_python/blob/master/Lab_2_05.ipynb\" target=\"_parent\"><img src=\"https://colab.research.google.com/assets/colab-badge.svg\" alt=\"Open In Colab\"/></a>"
      ]
    },
    {
      "cell_type": "markdown",
      "source": [
        "Follow the flow of execution in the following programs.  For each one, predict what will happen in your notebook.  Some examples may not show the correct syntax!\n",
        "\n",
        "see [here for more info on slicing in python](https://www.pythoncentral.io/how-to-slice-listsarrays-and-tuples-in-python/)\n",
        "\n"
      ],
      "metadata": {
        "id": "ypVxRtQfwgsm"
      }
    },
    {
      "cell_type": "code",
      "source": [
        "a_list = list(range(10))\n",
        "print(a_list)\n",
        "print(\"---------\")\n",
        "print(a_list[1:8:2])\n",
        "\n",
        "a_list.append(7)\n",
        "a_list"
      ],
      "metadata": {
        "colab": {
          "base_uri": "https://localhost:8080/"
        },
        "id": "9nh5mnEfoTvG",
        "outputId": "370e854c-84b4-48aa-d8e7-e8f4cc3bf303"
      },
      "execution_count": null,
      "outputs": [
        {
          "output_type": "stream",
          "name": "stdout",
          "text": [
            "[0, 1, 2, 3, 4, 5, 6, 7, 8, 9]\n",
            "---------\n",
            "[1, 3, 5, 7]\n"
          ]
        },
        {
          "output_type": "execute_result",
          "data": {
            "text/plain": [
              "[0, 1, 2, 3, 4, 5, 6, 7, 8, 9, 7]"
            ]
          },
          "metadata": {},
          "execution_count": 31
        }
      ]
    },
    {
      "cell_type": "code",
      "source": [
        "a_list.pop()\n",
        "a_list.index(5)"
      ],
      "metadata": {
        "colab": {
          "base_uri": "https://localhost:8080/"
        },
        "id": "7XFP3iXDuBSu",
        "outputId": "55b153c9-32dc-43e6-8eec-71f5d3f51445"
      },
      "execution_count": null,
      "outputs": [
        {
          "output_type": "execute_result",
          "data": {
            "text/plain": [
              "5"
            ]
          },
          "metadata": {},
          "execution_count": 43
        }
      ]
    },
    {
      "cell_type": "code",
      "execution_count": null,
      "metadata": {
        "id": "KTDiea8Ywcz-"
      },
      "outputs": [],
      "source": [
        "# Example 1:\n",
        "a_list = ['a', 'b', 'c', 'd', 'e']\n",
        "print(a_list[0:3])\n",
        "print(a_list[1:4])\n",
        "print(a_list[::2])\n",
        "print(a_list[1::2])"
      ]
    },
    {
      "cell_type": "code",
      "source": [
        "# Example 2:\n",
        "a_list = ['a', 'b', 'c', 'd', 'e']\n",
        "print(a_list[1:(len(a_list) - 3)])\n",
        "\n"
      ],
      "metadata": {
        "id": "E1m7TVscwgQm"
      },
      "execution_count": null,
      "outputs": []
    },
    {
      "cell_type": "code",
      "source": [
        "# Example 3:\n",
        "a_list = ['a', 'b', 'c', 'd', 'e']\n",
        "b_list = a_list.remove('b')\n",
        "print(a_list)\n",
        "print(b_list)\n"
      ],
      "metadata": {
        "id": "JooTpAoow6tC"
      },
      "execution_count": null,
      "outputs": []
    },
    {
      "cell_type": "code",
      "source": [
        "\n",
        "# Example 4:\n",
        "a_list = ['a', 'b', 'c', 'd', 'e']\n",
        "b_value = a_list.pop()\n",
        "print(a_list)\n",
        "print(b_value)\n",
        "\n"
      ],
      "metadata": {
        "id": "AHSniIx4w9_L",
        "colab": {
          "base_uri": "https://localhost:8080/"
        },
        "outputId": "c62f114f-54b2-464c-db89-04f2d07b3be3"
      },
      "execution_count": null,
      "outputs": [
        {
          "output_type": "stream",
          "name": "stdout",
          "text": [
            "['a', 'b', 'c', 'd']\n",
            "e\n"
          ]
        }
      ]
    },
    {
      "cell_type": "code",
      "source": [
        "# Example 5:\n",
        "a_list = ['a', 'b', 'c', 'd', 'e']\n",
        "b_list = a_list + ['abc']\n",
        "print(a_list)\n",
        "print(b_list)\n",
        "\n"
      ],
      "metadata": {
        "id": "DbQbc-njw_Yc"
      },
      "execution_count": null,
      "outputs": []
    },
    {
      "cell_type": "code",
      "source": [
        "# Example 6:\n",
        "a_list = ['a', 'b', 'c', 'd', 'e']\n",
        "b_list = a_list.append('f')\n",
        "print(a_list)\n",
        "print(b_list)"
      ],
      "metadata": {
        "id": "ps6cuf__xAct"
      },
      "execution_count": null,
      "outputs": []
    },
    {
      "cell_type": "markdown",
      "source": [
        "## Creating a Tic-Tac-Toe using a single list\n",
        "\n",
        "Create this game using lists and indexes, according to the following rules:\n",
        "- The user will pick a location on the board according to this diagram (printed by the program).\n",
        "\n",
        "    ```\n",
        "    1 | 2 | 3\n",
        "    ---------\n",
        "    4 | 5 | 6\n",
        "    ---------\n",
        "    7 | 8 | 9\n",
        "    ```\n",
        "\n",
        "- Depending on the position that the user inputs, update the corresponding list element to be an “X”.\n",
        "- Print the updated board out, but do not worry about making it look pretty.\n",
        "You only need to implement one turn of the game for now.\n",
        "\n",
        "As a hint: use the join function on the strings \n",
        "```\n",
        "\" | \".join([\"1\",\"2\",\"3\"])\n",
        "-> '1 | 2 | 3'\n",
        "```"
      ],
      "metadata": {
        "id": "g7YCOEFP70HJ"
      }
    },
    {
      "cell_type": "code",
      "source": [
        ""
      ],
      "metadata": {
        "id": "-5TTDZlg-V-Q",
        "colab": {
          "base_uri": "https://localhost:8080/"
        },
        "outputId": "a0b5cb5d-fdc1-43d0-8ea6-1668e21c5c5c"
      },
      "execution_count": null,
      "outputs": [
        {
          "output_type": "stream",
          "name": "stdout",
          "text": [
            "['1', '2', '3', '4', '5', 'X', '7', '8', '9']\n"
          ]
        }
      ]
    }
  ]
}