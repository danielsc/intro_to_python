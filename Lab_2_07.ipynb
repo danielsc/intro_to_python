{
  "nbformat": 4,
  "nbformat_minor": 0,
  "metadata": {
    "colab": {
      "name": "Lab 2.07.ipynb",
      "provenance": [],
      "collapsed_sections": [],
      "include_colab_link": true
    },
    "kernelspec": {
      "name": "python3",
      "display_name": "Python 3"
    },
    "language_info": {
      "name": "python"
    }
  },
  "cells": [
    {
      "cell_type": "markdown",
      "metadata": {
        "id": "view-in-github",
        "colab_type": "text"
      },
      "source": [
        "<a href=\"https://colab.research.google.com/github/danielsc/intro_to_python/blob/master/Lab_2_07.ipynb\" target=\"_parent\"><img src=\"https://colab.research.google.com/assets/colab-badge.svg\" alt=\"Open In Colab\"/></a>"
      ]
    },
    {
      "cell_type": "markdown",
      "source": [
        "## Based on the prior 2 assignments, build out the full game\n",
        "\n",
        "There are eight possible ways to win a Tic-Tac-Toe game. Each one can be represented by slicing the game-board array. For instance, given these board array indexes: \n",
        "\n",
        "```\n",
        "  board = ['1','2','3','4','5','6','7','8','9']\n",
        "  print_board(board)\n",
        "\n",
        "  1 | 2 | 3\n",
        "  ---------\n",
        "  4 | 5 | 6\n",
        "  ---------\n",
        "  7 | 8 | 9\n",
        "```\n",
        "`board[3:6]` will return `['4','5','6']`<br>\n",
        "`board[::4]` will return `['1','5','9']`<br>\n",
        "`board[::3]` will return `['1','4','7']`<br>\n",
        "\n",
        "see [here for more info on slicing in python](https://www.askpython.com/python/array/array-slicing-in-python)\n",
        "\n",
        "Find all the 8 slices the describing winning combinations: `[1,2,3], [4,5,6], [7,8,9], [1,4,7], [2,5,8], [3,6,9], [1,5,9], [3,5,7]`\n"
      ],
      "metadata": {
        "id": "MNyPmYRbMlHG"
      }
    },
    {
      "cell_type": "code",
      "source": [
        "# Find all 8 slices that represent a win\n",
        "board = [1,2,3,4,5,6,7,8,9]\n",
        "board[3:6]"
      ],
      "metadata": {
        "id": "qsplXWCpMkww",
        "colab": {
          "base_uri": "https://localhost:8080/"
        },
        "outputId": "1fbd72ea-3f61-4461-c93b-76f09c85a951"
      },
      "execution_count": null,
      "outputs": [
        {
          "output_type": "execute_result",
          "data": {
            "text/plain": [
              "[4, 5, 6]"
            ]
          },
          "metadata": {},
          "execution_count": 1
        }
      ]
    },
    {
      "cell_type": "markdown",
      "source": [
        "After each turn in the game, check to see if the most recent player has won. For that, create a function `def find_winner(board):` that checks for each one of the above slices whether any of them has 3 Xs or 3 Os in them. If that is the case, return X or O as the winner -- otherwise return None.\n"
      ],
      "metadata": {
        "id": "986Bj2YGTIXm"
      }
    },
    {
      "cell_type": "code",
      "execution_count": null,
      "metadata": {
        "id": "uqC1WKtaMdcW"
      },
      "outputs": [],
      "source": [
        "def is_winner(list_of_3_symbols):\n",
        "  \"Determine if a list of 3 cells contains all Xs or all Os. Return True if there is a winner or False otherwise\"\n",
        "  ...\n",
        "  \n",
        "# Test your function with some combinations that have winners and some that don't\n",
        "print(is_winner([\" \", \"X\", \"O\"]), \" should return False\")\n",
        "print(is_winner([\"O\", \"O\", \"O\"]), \" should return True\")\n",
        "print(is_winner([\" \", \" \", \" \"]), \" should return False\")\n",
        "print(is_winner([\"X\", \"X\", \"X\"]), \" should return True\")\n"
      ]
    },
    {
      "cell_type": "code",
      "source": [
        "def find_winner(board):\n",
        "  \"Find if the board has a winner. If it does, return that winner's symbol (X or O), if not, return None\"\n",
        "  options = [board[0:3], ...] # fill in all the winning 8 slices here\n",
        "  for option in options:\n",
        "    # check if this option is a winner using the is_winner function you buit above\n",
        "    # if we have a winner, return their symbol (X or O)\n",
        "    ...\n",
        "  # if we don't have a winner, return None\n",
        "  return None\n",
        "\n",
        "# Test your function with some boards that have winners and some that don't\n",
        "# Test your function with some boards that have winners and some that don't\n",
        "print(find_winner([' ', ' ', ' ', ' ', 'X', ' ', ' ', ' ', ' ']), \" should return None\")\n",
        "print(find_winner(['X', 'X', 'O', ' ', 'X', 'O', ' ', ' ', 'O']), \" should return 'O'\")\n",
        "print(find_winner(['X', 'X', 'O', ' ', 'O', ' ', 'O', ' ', 'X']), \" should return 'O'\")\n",
        "print(find_winner(['X', 'X', 'O', ' ', 'O', ' ', ' ', ' ', ' ']), \" should return None\")\n",
        "print(find_winner(['X', 'O', 'X', 'O', 'X', 'O', 'O', 'X', 'X']), \" should return 'X'\")\n",
        "print(find_winner(['O', 'X', 'X', 'X', 'X', 'O', 'O', 'O', 'X']), \" should return None\")"
      ],
      "metadata": {
        "id": "T8SJrWaLRtf1"
      },
      "execution_count": null,
      "outputs": []
    },
    {
      "cell_type": "markdown",
      "source": [
        "Build out the game with a game loop and using the above functions\n",
        "- Print appropriate messages if the X's player wins, or if the O's player wins\n",
        "- If no one has won the game after 9 moves, declare the game to be a draw\n",
        "\n"
      ],
      "metadata": {
        "id": "txjvUHipTYIU"
      }
    },
    {
      "cell_type": "code",
      "source": [
        ""
      ],
      "metadata": {
        "id": "GdBVy8gwjg5j"
      },
      "execution_count": null,
      "outputs": []
    }
  ]
}