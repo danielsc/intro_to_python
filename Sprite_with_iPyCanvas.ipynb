{
  "nbformat": 4,
  "nbformat_minor": 0,
  "metadata": {
    "colab": {
      "name": "Sprite with iPyCanvas.ipynb",
      "provenance": [],
      "collapsed_sections": [],
      "authorship_tag": "ABX9TyNDvj4LIIamxgFzzeiRBgR4",
      "include_colab_link": true
    },
    "kernelspec": {
      "name": "python3",
      "display_name": "Python 3"
    },
    "language_info": {
      "name": "python"
    }
  },
  "cells": [
    {
      "cell_type": "markdown",
      "metadata": {
        "id": "view-in-github",
        "colab_type": "text"
      },
      "source": [
        "<a href=\"https://colab.research.google.com/github/danielsc/intro_to_python/blob/master/Sprite_with_iPyCanvas.ipynb\" target=\"_parent\"><img src=\"https://colab.research.google.com/assets/colab-badge.svg\" alt=\"Open In Colab\"/></a>"
      ]
    },
    {
      "cell_type": "markdown",
      "source": [
        "**Using IPyCanvas to draw in a Colab Notebook**\n",
        "\n",
        "For documentation of ipycanvas please see here: https://ipycanvas.readthedocs.io/en/latest/usage.html"
      ],
      "metadata": {
        "id": "lyoirMAkNNzX"
      }
    },
    {
      "cell_type": "code",
      "source": [
        "# Install ipycanvas and enable custom widgets in Colab\n",
        "\n",
        "!pip install -q ipycanvas\n",
        "\n",
        "from google.colab import output\n",
        "output.enable_custom_widget_manager()"
      ],
      "metadata": {
        "id": "Me-27Fwmfl5s",
        "colab": {
          "base_uri": "https://localhost:8080/"
        },
        "outputId": "e997ee81-154e-4092-c355-93c9285ff51d"
      },
      "execution_count": null,
      "outputs": [
        {
          "output_type": "stream",
          "name": "stdout",
          "text": [
            "\u001b[?25l\r\u001b[K     |█▎                              | 10 kB 22.6 MB/s eta 0:00:01\r\u001b[K     |██▋                             | 20 kB 28.7 MB/s eta 0:00:01\r\u001b[K     |███▉                            | 30 kB 33.7 MB/s eta 0:00:01\r\u001b[K     |█████▏                          | 40 kB 35.9 MB/s eta 0:00:01\r\u001b[K     |██████▍                         | 51 kB 24.5 MB/s eta 0:00:01\r\u001b[K     |███████▊                        | 61 kB 27.0 MB/s eta 0:00:01\r\u001b[K     |█████████                       | 71 kB 27.0 MB/s eta 0:00:01\r\u001b[K     |██████████▎                     | 81 kB 28.7 MB/s eta 0:00:01\r\u001b[K     |███████████▌                    | 92 kB 30.9 MB/s eta 0:00:01\r\u001b[K     |████████████▉                   | 102 kB 29.8 MB/s eta 0:00:01\r\u001b[K     |██████████████                  | 112 kB 29.8 MB/s eta 0:00:01\r\u001b[K     |███████████████▍                | 122 kB 29.8 MB/s eta 0:00:01\r\u001b[K     |████████████████▋               | 133 kB 29.8 MB/s eta 0:00:01\r\u001b[K     |██████████████████              | 143 kB 29.8 MB/s eta 0:00:01\r\u001b[K     |███████████████████▏            | 153 kB 29.8 MB/s eta 0:00:01\r\u001b[K     |████████████████████▌           | 163 kB 29.8 MB/s eta 0:00:01\r\u001b[K     |█████████████████████▉          | 174 kB 29.8 MB/s eta 0:00:01\r\u001b[K     |███████████████████████         | 184 kB 29.8 MB/s eta 0:00:01\r\u001b[K     |████████████████████████▍       | 194 kB 29.8 MB/s eta 0:00:01\r\u001b[K     |█████████████████████████▋      | 204 kB 29.8 MB/s eta 0:00:01\r\u001b[K     |███████████████████████████     | 215 kB 29.8 MB/s eta 0:00:01\r\u001b[K     |████████████████████████████▏   | 225 kB 29.8 MB/s eta 0:00:01\r\u001b[K     |█████████████████████████████▌  | 235 kB 29.8 MB/s eta 0:00:01\r\u001b[K     |██████████████████████████████▊ | 245 kB 29.8 MB/s eta 0:00:01\r\u001b[K     |████████████████████████████████| 255 kB 29.8 MB/s \n",
            "\u001b[?25h"
          ]
        }
      ]
    },
    {
      "cell_type": "markdown",
      "source": [
        "## Classes and Objects:\n",
        "First, please consult the reading materials on Object Orientation to learn how classes are defined in Python and how objects of a class are created: https://tealsk12.github.io/2nd-semester-introduction-to-computer-science/readings.md.html#associatedreadings/unit7-introductiontoobjectorientedprogramming\n",
        "\n",
        "As you can see, an object class is simply defined by using the class keyword:\n",
        "\n",
        "```python\n",
        "class Point():\n",
        "   \"\"\"a point with coordinates\"\"\"\n",
        "```\n",
        "and then a point can be created and properties can be set and read  like so:\n",
        "\n",
        "```python\n",
        "p = Point()\n",
        "p.x = 20\n",
        "p.y = 45\n",
        "\n",
        "print(\"Point coordinates are: \", p.x, p.y)\n",
        "```\n",
        "\n",
        "An object can have its own functions (called methods), these have a special first parameter \"self\" which represents the object instance. There is a special function called `__init__` which is call upon object creation. The first parameter of `__init__` is always self and you can define additional parameters if needed. See below for how an `__init__`*italicized text* function and it's usage might look for the Point class above:\n"
      ],
      "metadata": {
        "id": "lagJkYMpbfuy"
      }
    },
    {
      "cell_type": "code",
      "source": [
        "class Point():\n",
        "  \"\"\"a point with coordinates\"\"\"\n",
        "  def __init__(self, x, y):\n",
        "    self.x = x\n",
        "    self.y = y\n",
        "\n"
      ],
      "metadata": {
        "id": "PA21IpjebmIc"
      },
      "execution_count": null,
      "outputs": []
    },
    {
      "cell_type": "markdown",
      "source": [
        "\n",
        "Note that in the statement \n",
        "```python\n",
        "self.x = x\n",
        "```\n",
        "'self.x' is referring to the property 'x' of the Point class while the 'x' on the parameter that was passed into the function. Once a class was defined with an __init__ function like above, you can use the class like so:\n"
      ],
      "metadata": {
        "id": "n3lvt3D8bnx9"
      }
    },
    {
      "cell_type": "code",
      "source": [
        "p1 = Point(12, 34)\n",
        "print(\"Point 1's coordinates are: \", p1.x, p1.y)\n",
        "p2 = Point(25, 74)\n",
        "print(\"Point 2's coordinates are: \", p2.x, p2.y)\n"
      ],
      "metadata": {
        "colab": {
          "base_uri": "https://localhost:8080/"
        },
        "id": "D1nugY44bo1i",
        "outputId": "bb66eaa2-e3b9-4738-da44-cceb4053b1e6"
      },
      "execution_count": null,
      "outputs": [
        {
          "output_type": "stream",
          "name": "stdout",
          "text": [
            "Point 1's coordinates are:  12 34\n",
            "Point 2's coordinates are:  25 74\n"
          ]
        }
      ]
    },
    {
      "cell_type": "markdown",
      "source": [
        "## Assignment\n",
        "Create a Sprite class that has 3 properties:\n",
        "- pixels, which contains an array of the pixels of the sprite\n",
        "- x, the x coordinate of the sprite\n",
        "- y, the y coordinate of the sprite\n",
        "\n",
        "Then create a canvas and a draw function that takes a canvas and a sprite as parameters and which draws the Sprite at its location. So, the signature of the draw function should look like this:\n",
        "\n",
        "\n"
      ],
      "metadata": {
        "id": "ctBZBaPEc59_"
      }
    },
    {
      "cell_type": "code",
      "source": [
        "from ipycanvas import Canvas, hold_canvas\n",
        "\n",
        "class Sprite():\n",
        "  \"\"\"A class defining a sprite with pixels and coordinates\"\"\"\n",
        "  def __init__(self, pixels, x, y):\n",
        "    # set the properties here\n",
        "    ...\n",
        "\n",
        "def draw(canvas, sprite):\n",
        "  # here clear the canvas, then draw the sprite at it's location\n",
        "  # use the hold_canvas construct to avoid flickering (check iPyCanvas documentation)\n",
        "  ...\n",
        "\n",
        "canvas = Canvas(width=800, height=400)\n",
        "canvas"
      ],
      "metadata": {
        "id": "p6BFEhNue_Ma"
      },
      "execution_count": null,
      "outputs": []
    },
    {
      "cell_type": "markdown",
      "source": [
        "\n",
        "Then, in a loop change the x and y coordinates of the sprite and repeatedly call your `draw` function"
      ],
      "metadata": {
        "id": "XPdWmdVCe_rY"
      }
    },
    {
      "cell_type": "code",
      "source": [
        "import time\n",
        "\n",
        "# create your sprite object here\n",
        "sprite = Sprite(...)\n",
        "\n",
        "for i in range(100):\n",
        "  # change the coordinates of the sprite here\n",
        "  sprite.x = i\n",
        "  sprite.y = i\n",
        "  # then call your draw function\n",
        "  draw(canvas, sprite)\n",
        "  # now sleep for a bit\n",
        "  time.sleep(0.1)\n"
      ],
      "metadata": {
        "id": "JIoXtSp-mP6T"
      },
      "execution_count": null,
      "outputs": []
    },
    {
      "cell_type": "markdown",
      "source": [
        "## Bonus\n",
        "\n",
        "Change the signature of your draw function to accept a list of sprites and draw multiple sprites in your `draw` function. \n",
        "\n",
        "The signature would then look like this:\n",
        "\n",
        "```python\n",
        "def draw(canvas, sprites):\n",
        "  ...\n",
        "```\n",
        "\n",
        "In your loop create multiple sprites and change their coordinates independently, then call the draw function\n"
      ],
      "metadata": {
        "id": "ny-2gHfKhNzl"
      }
    },
    {
      "cell_type": "code",
      "source": [
        "import time\n",
        "\n",
        "# create your sprite objects here\n",
        "rocket = Sprite(...)\n",
        "alien = Sprite(...)\n",
        "\n",
        "for i in range(100):\n",
        "  # change the coordinates of the sprites here\n",
        "  ...\n",
        "  # then call your draw function\n",
        "  draw(canvas, [rocket, alien])\n",
        "  # now sleep for a bit\n",
        "  time.sleep(0.1)\n"
      ],
      "metadata": {
        "id": "mBy_jZ8UhjPZ"
      },
      "execution_count": null,
      "outputs": []
    }
  ]
}