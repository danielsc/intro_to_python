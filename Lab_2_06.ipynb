{
  "nbformat": 4,
  "nbformat_minor": 0,
  "metadata": {
    "colab": {
      "name": "Lab 2.06.ipynb",
      "provenance": [],
      "collapsed_sections": [],
      "include_colab_link": true
    },
    "kernelspec": {
      "name": "python3",
      "display_name": "Python 3"
    },
    "language_info": {
      "name": "python"
    }
  },
  "cells": [
    {
      "cell_type": "markdown",
      "metadata": {
        "id": "view-in-github",
        "colab_type": "text"
      },
      "source": [
        "<a href=\"https://colab.research.google.com/github/danielsc/intro_to_python/blob/master/Lab_2_06.ipynb\" target=\"_parent\"><img src=\"https://colab.research.google.com/assets/colab-badge.svg\" alt=\"Open In Colab\"/></a>"
      ]
    },
    {
      "cell_type": "markdown",
      "source": [
        "Consider the code below.\n",
        "- What is the output?\n",
        "- How many times will it print out?\n"
      ],
      "metadata": {
        "id": "ytAD1Qm4BUwc"
      }
    },
    {
      "cell_type": "code",
      "source": [
        "loopCounter = 0\n",
        "while loopCounter < 10:\n",
        "     print('Hello World')\n"
      ],
      "metadata": {
        "id": "CcX2XZNEBO6K"
      },
      "execution_count": null,
      "outputs": []
    },
    {
      "cell_type": "markdown",
      "source": [
        "- How many times will the code below print something out?\n",
        "- What is the output? \n"
      ],
      "metadata": {
        "id": "3A4teMveAWoJ"
      }
    },
    {
      "cell_type": "code",
      "source": [
        "quitgame = 'n'\n",
        "while quitgame != 'y':  \n",
        "     print('Hello World')\n",
        "     quitgame = input('Would you like to quit (y or n)? ')\n"
      ],
      "metadata": {
        "id": "bZjOsyWeANjh"
      },
      "execution_count": null,
      "outputs": []
    },
    {
      "cell_type": "markdown",
      "source": [
        "- How else might while loops be useful?\n",
        "- In the code below, where would you insert additional code to accept input from the user and change the ticTacToeBoard variable?\n",
        "- Where would you insert additional code to check for a winner in Tic-Tac-Toe?\n"
      ],
      "metadata": {
        "id": "THOWBpCaAtDr"
      }
    },
    {
      "cell_type": "code",
      "source": [
        "turn = 0\n",
        "while turn < 9:  \n",
        "     print(\"ticTacToeBoard\")\n",
        "     turn = turn + 1\n"
      ],
      "metadata": {
        "id": "MioGVPGyAwSO"
      },
      "execution_count": null,
      "outputs": []
    },
    {
      "cell_type": "markdown",
      "source": [
        "Create this game again using lists and indexes. Updated rules are below.\n",
        "- Allow users to keep playing (max 9 times)\n",
        "  ```\n",
        "    1 | 2 | 3\n",
        "    ---------\n",
        "    4 | 5 | 6\n",
        "    ---------\n",
        "    7 | 8 | 9\n",
        "  ```\n",
        "- Use variables to decide whose turn it is. Greet the players as \"X’s\" or \"O’s\"\n",
        "- User picks a location on the board by entering a number\n",
        "- Depending on the location that the user chose, update the corresponding board position\n",
        "- Print the updated board out\n",
        "\n",
        "You will not need to determine the winner at this point\n"
      ],
      "metadata": {
        "id": "F5uPvbBS_qmw"
      }
    },
    {
      "cell_type": "code",
      "source": [
        ""
      ],
      "metadata": {
        "id": "uyjoT-Bf_qZg"
      },
      "execution_count": null,
      "outputs": []
    }
  ]
}